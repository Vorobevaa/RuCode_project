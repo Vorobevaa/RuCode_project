{
 "cells": [
  {
   "cell_type": "markdown",
   "id": "recreational-trick",
   "metadata": {},
   "source": [
    "This is one of the three problem that was on RuCode festival. \n",
    "\n",
    "The All-Russian educational festival on artificial intelligence and programming RuCode has already been held twice in the spring and autumn of 2020 and has gathered more than 20 thousand participants. It was organized by 15 leading universities and public organizations from all over Russia. The festival was supported by the Ministry of Science and Higher Education of the Russian Federation, and the industrial partners of the event were MegaFon, Yandex, Beber and Gazprombank. \n",
    "\n",
    "In this competition I need to solve the problem of determining whether a regulatory legal act will be adopted or not.\n"
   ]
  },
  {
   "cell_type": "code",
   "execution_count": 1,
   "id": "vital-resistance",
   "metadata": {},
   "outputs": [],
   "source": [
    "# import libraries\n",
    "import pandas as pd\n",
    "import numpy as np\n",
    "\n",
    "from sklearn.ensemble import GradientBoostingRegressor\n",
    "from sklearn import linear_model, metrics, tree\n",
    "from sklearn.model_selection import train_test_split\n",
    "from sklearn.ensemble import RandomForestClassifier\n",
    "from sklearn.model_selection import cross_val_score\n",
    "from sklearn.metrics import mean_squared_error, accuracy_score, roc_auc_score\n",
    "from catboost import CatBoostClassifier\n",
    "from sklearn.preprocessing import OneHotEncoder\n",
    "import xgboost as xgb\n",
    "import matplotlib\n",
    "from matplotlib import pyplot as plt\n",
    "matplotlib.style.use('ggplot')\n",
    "%matplotlib inline\n",
    "\n",
    "from datetime import datetime"
   ]
  },
  {
   "cell_type": "code",
   "execution_count": 2,
   "id": "located-shoulder",
   "metadata": {},
   "outputs": [],
   "source": [
    "# import our data\n",
    "all_data = pd.read_csv('regulations.csv')\n",
    "train_answer = pd.read_csv('train_answer.csv')\n",
    "test_data = pd.read_csv('sample_submission.csv')"
   ]
  },
  {
   "cell_type": "markdown",
   "id": "taken-neutral",
   "metadata": {},
   "source": [
    "## 1. Exploring the Data"
   ]
  },
  {
   "cell_type": "markdown",
   "id": "pending-union",
   "metadata": {},
   "source": [
    "The data is represented by several csv tables: regulations.csv contains common informations about acts; regulations_texts.csv - description of texts; sample_submission.csv file presents the structure of how your csv file with responses to test data should look like; train_answer.csv file contains the values of the target variable for the training part of the dataset; ria_reports - this folder contains summary reports on the regulatory impact assessment of the projects; ria_reports_structures - there are descriptions of ria_reports."
   ]
  },
  {
   "cell_type": "code",
   "execution_count": 3,
   "id": "turned-petite",
   "metadata": {},
   "outputs": [
    {
     "data": {
      "text/html": [
       "<div>\n",
       "<style scoped>\n",
       "    .dataframe tbody tr th:only-of-type {\n",
       "        vertical-align: middle;\n",
       "    }\n",
       "\n",
       "    .dataframe tbody tr th {\n",
       "        vertical-align: top;\n",
       "    }\n",
       "\n",
       "    .dataframe thead th {\n",
       "        text-align: right;\n",
       "    }\n",
       "</style>\n",
       "<table border=\"1\" class=\"dataframe\">\n",
       "  <thead>\n",
       "    <tr style=\"text-align: right;\">\n",
       "      <th></th>\n",
       "      <th>id</th>\n",
       "      <th>act_title</th>\n",
       "      <th>publication_date</th>\n",
       "      <th>developer</th>\n",
       "      <th>okved_list</th>\n",
       "      <th>views_num</th>\n",
       "      <th>comments_num</th>\n",
       "      <th>likes_num</th>\n",
       "      <th>dislikes_num</th>\n",
       "      <th>regulatory_impact</th>\n",
       "      <th>added_by</th>\n",
       "      <th>responsible</th>\n",
       "      <th>is_regionally_signigicant</th>\n",
       "      <th>act_changes_controlling_activities</th>\n",
       "      <th>mineco_solution</th>\n",
       "      <th>problem_addressed</th>\n",
       "      <th>act_objectives</th>\n",
       "      <th>persons_affected_by_act</th>\n",
       "      <th>relations_regulated_by_act</th>\n",
       "      <th>act_significance</th>\n",
       "    </tr>\n",
       "  </thead>\n",
       "  <tbody>\n",
       "    <tr>\n",
       "      <th>0</th>\n",
       "      <td>5038</td>\n",
       "      <td>Об утверждении тарифов на услуги по транспорти...</td>\n",
       "      <td>2013-09-11</td>\n",
       "      <td>ФСТ России</td>\n",
       "      <td>NaN</td>\n",
       "      <td>376.0</td>\n",
       "      <td>0.0</td>\n",
       "      <td>0.0</td>\n",
       "      <td>0.0</td>\n",
       "      <td>Низкая</td>\n",
       "      <td>Митина Ольга Викторовна</td>\n",
       "      <td>Митина Ольга Викторовна</td>\n",
       "      <td>False</td>\n",
       "      <td>False</td>\n",
       "      <td>Не определено</td>\n",
       "      <td>NaN</td>\n",
       "      <td>NaN</td>\n",
       "      <td>NaN</td>\n",
       "      <td>NaN</td>\n",
       "      <td>NaN</td>\n",
       "    </tr>\n",
       "    <tr>\n",
       "      <th>1</th>\n",
       "      <td>5039</td>\n",
       "      <td>О внесении изменений в отдельные законодательн...</td>\n",
       "      <td>2013-06-11</td>\n",
       "      <td>Минтруд России</td>\n",
       "      <td>Здравоохранение; Предоставление социальных услуг</td>\n",
       "      <td>504.0</td>\n",
       "      <td>0.0</td>\n",
       "      <td>0.0</td>\n",
       "      <td>0.0</td>\n",
       "      <td>Низкая</td>\n",
       "      <td>Рахов Виталий Сергеевич</td>\n",
       "      <td>Павлова Зоя Ивановна</td>\n",
       "      <td>False</td>\n",
       "      <td>False</td>\n",
       "      <td>Не определено</td>\n",
       "      <td>NaN</td>\n",
       "      <td>NaN</td>\n",
       "      <td>NaN</td>\n",
       "      <td>NaN</td>\n",
       "      <td>NaN</td>\n",
       "    </tr>\n",
       "    <tr>\n",
       "      <th>2</th>\n",
       "      <td>5040</td>\n",
       "      <td>Об утверждении Положения об уведомлении лиц об...</td>\n",
       "      <td>2013-04-29</td>\n",
       "      <td>Росфинмониторинг</td>\n",
       "      <td>Финансовая деятельность</td>\n",
       "      <td>428.0</td>\n",
       "      <td>0.0</td>\n",
       "      <td>0.0</td>\n",
       "      <td>0.0</td>\n",
       "      <td>Низкая</td>\n",
       "      <td>Тимофеева Алёна Игоревна</td>\n",
       "      <td>Лях Валерий Владимирович</td>\n",
       "      <td>False</td>\n",
       "      <td>False</td>\n",
       "      <td>Не определено</td>\n",
       "      <td>NaN</td>\n",
       "      <td>NaN</td>\n",
       "      <td>NaN</td>\n",
       "      <td>NaN</td>\n",
       "      <td>NaN</td>\n",
       "    </tr>\n",
       "    <tr>\n",
       "      <th>3</th>\n",
       "      <td>5041</td>\n",
       "      <td>О внесении изменений в Положение о Министерств...</td>\n",
       "      <td>2013-10-21</td>\n",
       "      <td>Минобрнауки России</td>\n",
       "      <td>Образование</td>\n",
       "      <td>376.0</td>\n",
       "      <td>0.0</td>\n",
       "      <td>0.0</td>\n",
       "      <td>0.0</td>\n",
       "      <td>Низкая</td>\n",
       "      <td>Вотоновская Ирина Вячеславовна</td>\n",
       "      <td>Михайлова Ирина Вячеславовна</td>\n",
       "      <td>False</td>\n",
       "      <td>False</td>\n",
       "      <td>Не определено</td>\n",
       "      <td>NaN</td>\n",
       "      <td>NaN</td>\n",
       "      <td>NaN</td>\n",
       "      <td>NaN</td>\n",
       "      <td>NaN</td>\n",
       "    </tr>\n",
       "    <tr>\n",
       "      <th>4</th>\n",
       "      <td>5042</td>\n",
       "      <td>О внесении изменений в Правила подготовки и пр...</td>\n",
       "      <td>2014-02-24</td>\n",
       "      <td>Минприроды России</td>\n",
       "      <td>NaN</td>\n",
       "      <td>499.0</td>\n",
       "      <td>0.0</td>\n",
       "      <td>0.0</td>\n",
       "      <td>0.0</td>\n",
       "      <td>Низкая</td>\n",
       "      <td>Соболева Светлана Юрьевна</td>\n",
       "      <td>Соболева Светлана Юрьевна</td>\n",
       "      <td>False</td>\n",
       "      <td>False</td>\n",
       "      <td>Не определено</td>\n",
       "      <td>предоставление водного объекта в пользование п...</td>\n",
       "      <td>Пунктом 12 части 2 статьи 11 Водного кодекса Р...</td>\n",
       "      <td>неопределенный круг лиц</td>\n",
       "      <td>необходимость корреляции Правил подготовки и п...</td>\n",
       "      <td>Проект постановления Правительства Российской ...</td>\n",
       "    </tr>\n",
       "  </tbody>\n",
       "</table>\n",
       "</div>"
      ],
      "text/plain": [
       "     id                                          act_title publication_date  \\\n",
       "0  5038  Об утверждении тарифов на услуги по транспорти...       2013-09-11   \n",
       "1  5039  О внесении изменений в отдельные законодательн...       2013-06-11   \n",
       "2  5040  Об утверждении Положения об уведомлении лиц об...       2013-04-29   \n",
       "3  5041  О внесении изменений в Положение о Министерств...       2013-10-21   \n",
       "4  5042  О внесении изменений в Правила подготовки и пр...       2014-02-24   \n",
       "\n",
       "            developer                                        okved_list  \\\n",
       "0          ФСТ России                                               NaN   \n",
       "1      Минтруд России  Здравоохранение; Предоставление социальных услуг   \n",
       "2    Росфинмониторинг                           Финансовая деятельность   \n",
       "3  Минобрнауки России                                       Образование   \n",
       "4   Минприроды России                                               NaN   \n",
       "\n",
       "   views_num  comments_num  likes_num  dislikes_num regulatory_impact  \\\n",
       "0      376.0           0.0        0.0           0.0            Низкая   \n",
       "1      504.0           0.0        0.0           0.0            Низкая   \n",
       "2      428.0           0.0        0.0           0.0            Низкая   \n",
       "3      376.0           0.0        0.0           0.0            Низкая   \n",
       "4      499.0           0.0        0.0           0.0            Низкая   \n",
       "\n",
       "                         added_by                   responsible  \\\n",
       "0         Митина Ольга Викторовна       Митина Ольга Викторовна   \n",
       "1         Рахов Виталий Сергеевич          Павлова Зоя Ивановна   \n",
       "2        Тимофеева Алёна Игоревна      Лях Валерий Владимирович   \n",
       "3  Вотоновская Ирина Вячеславовна  Михайлова Ирина Вячеславовна   \n",
       "4       Соболева Светлана Юрьевна     Соболева Светлана Юрьевна   \n",
       "\n",
       "  is_regionally_signigicant act_changes_controlling_activities  \\\n",
       "0                     False                              False   \n",
       "1                     False                              False   \n",
       "2                     False                              False   \n",
       "3                     False                              False   \n",
       "4                     False                              False   \n",
       "\n",
       "  mineco_solution                                  problem_addressed  \\\n",
       "0   Не определено                                                NaN   \n",
       "1   Не определено                                                NaN   \n",
       "2   Не определено                                                NaN   \n",
       "3   Не определено                                                NaN   \n",
       "4   Не определено  предоставление водного объекта в пользование п...   \n",
       "\n",
       "                                      act_objectives  persons_affected_by_act  \\\n",
       "0                                                NaN                      NaN   \n",
       "1                                                NaN                      NaN   \n",
       "2                                                NaN                      NaN   \n",
       "3                                                NaN                      NaN   \n",
       "4  Пунктом 12 части 2 статьи 11 Водного кодекса Р...  неопределенный круг лиц   \n",
       "\n",
       "                          relations_regulated_by_act  \\\n",
       "0                                                NaN   \n",
       "1                                                NaN   \n",
       "2                                                NaN   \n",
       "3                                                NaN   \n",
       "4  необходимость корреляции Правил подготовки и п...   \n",
       "\n",
       "                                    act_significance  \n",
       "0                                                NaN  \n",
       "1                                                NaN  \n",
       "2                                                NaN  \n",
       "3                                                NaN  \n",
       "4  Проект постановления Правительства Российской ...  "
      ]
     },
     "execution_count": 3,
     "metadata": {},
     "output_type": "execute_result"
    }
   ],
   "source": [
    "all_data.head(5)"
   ]
  },
  {
   "cell_type": "code",
   "execution_count": 4,
   "id": "mediterranean-soccer",
   "metadata": {
    "scrolled": false
   },
   "outputs": [
    {
     "name": "stdout",
     "output_type": "stream",
     "text": [
      "<class 'pandas.core.frame.DataFrame'>\n",
      "RangeIndex: 85006 entries, 0 to 85005\n",
      "Data columns (total 20 columns):\n",
      " #   Column                              Non-Null Count  Dtype  \n",
      "---  ------                              --------------  -----  \n",
      " 0   id                                  85006 non-null  int64  \n",
      " 1   act_title                           85005 non-null  object \n",
      " 2   publication_date                    84417 non-null  object \n",
      " 3   developer                           84221 non-null  object \n",
      " 4   okved_list                          73097 non-null  object \n",
      " 5   views_num                           84417 non-null  float64\n",
      " 6   comments_num                        84417 non-null  float64\n",
      " 7   likes_num                           84417 non-null  float64\n",
      " 8   dislikes_num                        84417 non-null  float64\n",
      " 9   regulatory_impact                   84417 non-null  object \n",
      " 10  added_by                            84417 non-null  object \n",
      " 11  responsible                         81684 non-null  object \n",
      " 12  is_regionally_signigicant           84417 non-null  object \n",
      " 13  act_changes_controlling_activities  84417 non-null  object \n",
      " 14  mineco_solution                     84417 non-null  object \n",
      " 15  problem_addressed                   18501 non-null  object \n",
      " 16  act_objectives                      10681 non-null  object \n",
      " 17  persons_affected_by_act             18502 non-null  object \n",
      " 18  relations_regulated_by_act          18504 non-null  object \n",
      " 19  act_significance                    18501 non-null  object \n",
      "dtypes: float64(4), int64(1), object(15)\n",
      "memory usage: 13.0+ MB\n"
     ]
    }
   ],
   "source": [
    "all_data.info()"
   ]
  },
  {
   "cell_type": "markdown",
   "id": "disabled-academy",
   "metadata": {},
   "source": [
    "## 2. Clean the data\n",
    "\n",
    "We can see that there are null values in our table. Some raws I delete, some values I fill with non null."
   ]
  },
  {
   "cell_type": "code",
   "execution_count": 5,
   "id": "photographic-oxford",
   "metadata": {},
   "outputs": [],
   "source": [
    "# if we look at our data we can see that few acts was deleted\n",
    "# delete this regulations\n",
    "new_all_data = all_data.drop(all_data[all_data['act_title'] == 'Проект удален'].index)"
   ]
  },
  {
   "cell_type": "code",
   "execution_count": 6,
   "id": "third-notice",
   "metadata": {},
   "outputs": [],
   "source": [
    "# save deleted acts to new table, this help me delete this acts from train_answer  \n",
    "delete_acts = all_data[all_data['act_title'] == 'Проект удален']"
   ]
  },
  {
   "cell_type": "code",
   "execution_count": 7,
   "id": "ambient-terminology",
   "metadata": {},
   "outputs": [
    {
     "name": "stdout",
     "output_type": "stream",
     "text": [
      "<class 'pandas.core.frame.DataFrame'>\n",
      "Int64Index: 84417 entries, 0 to 85005\n",
      "Data columns (total 20 columns):\n",
      " #   Column                              Non-Null Count  Dtype  \n",
      "---  ------                              --------------  -----  \n",
      " 0   id                                  84417 non-null  int64  \n",
      " 1   act_title                           84416 non-null  object \n",
      " 2   publication_date                    84417 non-null  object \n",
      " 3   developer                           84221 non-null  object \n",
      " 4   okved_list                          73097 non-null  object \n",
      " 5   views_num                           84417 non-null  float64\n",
      " 6   comments_num                        84417 non-null  float64\n",
      " 7   likes_num                           84417 non-null  float64\n",
      " 8   dislikes_num                        84417 non-null  float64\n",
      " 9   regulatory_impact                   84417 non-null  object \n",
      " 10  added_by                            84417 non-null  object \n",
      " 11  responsible                         81684 non-null  object \n",
      " 12  is_regionally_signigicant           84417 non-null  object \n",
      " 13  act_changes_controlling_activities  84417 non-null  object \n",
      " 14  mineco_solution                     84417 non-null  object \n",
      " 15  problem_addressed                   18501 non-null  object \n",
      " 16  act_objectives                      10681 non-null  object \n",
      " 17  persons_affected_by_act             18502 non-null  object \n",
      " 18  relations_regulated_by_act          18504 non-null  object \n",
      " 19  act_significance                    18501 non-null  object \n",
      "dtypes: float64(4), int64(1), object(15)\n",
      "memory usage: 13.5+ MB\n"
     ]
    }
   ],
   "source": [
    "# look at our main table\n",
    "new_all_data.info()"
   ]
  },
  {
   "cell_type": "code",
   "execution_count": 8,
   "id": "characteristic-special",
   "metadata": {},
   "outputs": [],
   "source": [
    "# one act has NaN in 'act_title'\n",
    "# fill it with 'Unknow'\n",
    "new_all_data[['act_title']] = new_all_data['act_title'].fillna('Неизвестно')"
   ]
  },
  {
   "cell_type": "markdown",
   "id": "lucky-teaching",
   "metadata": {},
   "source": [
    "Let's look at our data. There are a lot of categorical data and it's difficult to work with it. The easiest approach to dealing with categorical variables is to simply remove them from the dataset. This approach will only work well if the columns did not contain useful information. But I think this is't work for us. \n",
    "\n"
   ]
  },
  {
   "cell_type": "code",
   "execution_count": 9,
   "id": "damaged-order",
   "metadata": {},
   "outputs": [
    {
     "data": {
      "text/plain": [
       "Минобрнауки России                                            6258\n",
       "Минтруд России                                                6254\n",
       "Минтранс России                                               5062\n",
       "Минфин России                                                 5053\n",
       "Минэкономразвития России                                      4757\n",
       "                                                              ... \n",
       "Федеральная служба по оборонному заказу                         20\n",
       "Рособоронпоставка                                               18\n",
       "Коллегия Военно-промышленной комиссии Российской Федерации      15\n",
       "СВР России                                                       2\n",
       "Департамент энергетики Правительства Российской Федерации        1\n",
       "Name: developer, Length: 98, dtype: int64"
      ]
     },
     "execution_count": 9,
     "metadata": {},
     "output_type": "execute_result"
    }
   ],
   "source": [
    "new_all_data['developer'].value_counts()"
   ]
  },
  {
   "cell_type": "code",
   "execution_count": 10,
   "id": "public-submission",
   "metadata": {},
   "outputs": [
    {
     "data": {
      "text/plain": [
       "Государственное управление                                                                                                                                                                                                                                                                                         18691\n",
       "Финансовая деятельность                                                                                                                                                                                                                                                                                             8502\n",
       "Образование                                                                                                                                                                                                                                                                                                         7322\n",
       "Транспорт                                                                                                                                                                                                                                                                                                           6150\n",
       "Здравоохранение                                                                                                                                                                                                                                                                                                     3040\n",
       "                                                                                                                                                                                                                                                                                                                   ...  \n",
       "Сельское хозяйство; Рыболовство, рыбоводство; Производство пищевых продуктов, включая напитки, и табака; Химическое производство; Государственное управление; Здравоохранение; Лесное хозяйство                                                                                                                        1\n",
       "Производство пищевых продуктов, включая напитки, и табака; Химическое производство; Прочие производства                                                                                                                                                                                                                1\n",
       "Строительство; Операции с недвижимым имуществом, аренда и предоставление услуг; Государственное управление; Образование; Здравоохранение                                                                                                                                                                               1\n",
       "Производство машин и оборудования; Производство электрооборудования; Производство транспортных средств; Производство электронного оборудования; Производство оптического оборудования; Производство оборудования; Обеспечение военной безопасности                                                                     1\n",
       "Производство резиновых изделий; Прочие производства; Здравоохранение; Пластмассовые изделия; Производство готовых металлических изделий; Производство электронного оборудования; Производство оптического оборудования; Производство оборудования; Производство бытовых изделий и предметов личного пользования        1\n",
       "Name: okved_list, Length: 853, dtype: int64"
      ]
     },
     "execution_count": 10,
     "metadata": {},
     "output_type": "execute_result"
    }
   ],
   "source": [
    "new_all_data['okved_list'].value_counts()"
   ]
  },
  {
   "cell_type": "code",
   "execution_count": 11,
   "id": "likely-center",
   "metadata": {},
   "outputs": [
    {
     "data": {
      "text/plain": [
       "Не определена    57404\n",
       "Низкая           18105\n",
       "Средняя           6633\n",
       "Высокая           2275\n",
       "Name: regulatory_impact, dtype: int64"
      ]
     },
     "execution_count": 11,
     "metadata": {},
     "output_type": "execute_result"
    }
   ],
   "source": [
    "new_all_data['regulatory_impact'].value_counts()"
   ]
  },
  {
   "cell_type": "code",
   "execution_count": 12,
   "id": "ruled-farmer",
   "metadata": {},
   "outputs": [
    {
     "data": {
      "text/plain": [
       "False    83785\n",
       "True       632\n",
       "Name: is_regionally_signigicant, dtype: int64"
      ]
     },
     "execution_count": 12,
     "metadata": {},
     "output_type": "execute_result"
    }
   ],
   "source": [
    "new_all_data['is_regionally_signigicant'].value_counts()"
   ]
  },
  {
   "cell_type": "code",
   "execution_count": 13,
   "id": "stupid-broadcast",
   "metadata": {},
   "outputs": [
    {
     "data": {
      "text/plain": [
       "False    83360\n",
       "True      1057\n",
       "Name: act_changes_controlling_activities, dtype: int64"
      ]
     },
     "execution_count": 13,
     "metadata": {},
     "output_type": "execute_result"
    }
   ],
   "source": [
    "new_all_data['act_changes_controlling_activities'].value_counts()"
   ]
  },
  {
   "cell_type": "code",
   "execution_count": 14,
   "id": "threaded-orlando",
   "metadata": {},
   "outputs": [
    {
     "data": {
      "text/plain": [
       "Не определено    76156\n",
       "Положительное     5860\n",
       "Отрицательное     2401\n",
       "Name: mineco_solution, dtype: int64"
      ]
     },
     "execution_count": 14,
     "metadata": {},
     "output_type": "execute_result"
    }
   ],
   "source": [
    "new_all_data['mineco_solution'].value_counts()"
   ]
  },
  {
   "cell_type": "code",
   "execution_count": 15,
   "id": "reserved-accused",
   "metadata": {},
   "outputs": [],
   "source": [
    "# delete columns where a lot off null objects and texts\n",
    "new_all_data_clean = new_all_data.drop(['developer', 'act_title', 'okved_list', 'responsible', 'act_significance', \n",
    "                          'relations_regulated_by_act', 'persons_affected_by_act', \n",
    "                          'act_objectives', 'problem_addressed', 'publication_date', 'added_by'], axis=1)"
   ]
  },
  {
   "cell_type": "code",
   "execution_count": 16,
   "id": "extended-mississippi",
   "metadata": {},
   "outputs": [
    {
     "name": "stdout",
     "output_type": "stream",
     "text": [
      "<class 'pandas.core.frame.DataFrame'>\n",
      "Int64Index: 84417 entries, 0 to 85005\n",
      "Data columns (total 9 columns):\n",
      " #   Column                              Non-Null Count  Dtype  \n",
      "---  ------                              --------------  -----  \n",
      " 0   id                                  84417 non-null  int64  \n",
      " 1   views_num                           84417 non-null  float64\n",
      " 2   comments_num                        84417 non-null  float64\n",
      " 3   likes_num                           84417 non-null  float64\n",
      " 4   dislikes_num                        84417 non-null  float64\n",
      " 5   regulatory_impact                   84417 non-null  object \n",
      " 6   is_regionally_signigicant           84417 non-null  object \n",
      " 7   act_changes_controlling_activities  84417 non-null  object \n",
      " 8   mineco_solution                     84417 non-null  object \n",
      "dtypes: float64(4), int64(1), object(4)\n",
      "memory usage: 6.4+ MB\n"
     ]
    }
   ],
   "source": [
    "#look at our data again \n",
    "new_all_data_clean.info()"
   ]
  },
  {
   "cell_type": "markdown",
   "id": "fifty-science",
   "metadata": {},
   "source": [
    "## 3. Split data to train and test"
   ]
  },
  {
   "cell_type": "markdown",
   "id": "prime-consumer",
   "metadata": {},
   "source": [
    "There are unusual training and test values. We have an act's id in simple_submission this is what we need to predict. Let's "
   ]
  },
  {
   "cell_type": "code",
   "execution_count": 17,
   "id": "adolescent-guyana",
   "metadata": {},
   "outputs": [],
   "source": [
    "train_id = train_answer['id'].to_list()\n",
    "test_id = test_data['id'].to_list()\n",
    "delete_id = delete_acts['id'].to_list()"
   ]
  },
  {
   "cell_type": "code",
   "execution_count": 18,
   "id": "supposed-drive",
   "metadata": {},
   "outputs": [],
   "source": [
    "id_list = []\n",
    "for i in train_id:\n",
    "    if i not in delete_id:\n",
    "        id_list.append(i)"
   ]
  },
  {
   "cell_type": "code",
   "execution_count": 19,
   "id": "personal-peripheral",
   "metadata": {},
   "outputs": [],
   "source": [
    "train_data = new_all_data_clean[new_all_data_clean['id'].isin(id_list)]\n",
    "test_data = new_all_data_clean[new_all_data_clean['id'].isin(test_id)]\n",
    "train_answer = train_answer[train_answer['id'].isin(id_list)]"
   ]
  },
  {
   "cell_type": "code",
   "execution_count": 20,
   "id": "composed-overview",
   "metadata": {},
   "outputs": [],
   "source": [
    "y = train_answer['passed']\n",
    "X = train_data"
   ]
  },
  {
   "cell_type": "code",
   "execution_count": 21,
   "id": "second-shade",
   "metadata": {},
   "outputs": [
    {
     "data": {
      "text/plain": [
       "['regulatory_impact',\n",
       " 'is_regionally_signigicant',\n",
       " 'act_changes_controlling_activities',\n",
       " 'mineco_solution']"
      ]
     },
     "execution_count": 21,
     "metadata": {},
     "output_type": "execute_result"
    }
   ],
   "source": [
    "# print all our categorical columns \n",
    "all_categorical_columns = [x for x in new_all_data_clean.columns if new_all_data[x].dtype == 'object']\n",
    "all_categorical_columns"
   ]
  },
  {
   "cell_type": "code",
   "execution_count": 22,
   "id": "juvenile-manufacturer",
   "metadata": {},
   "outputs": [],
   "source": [
    "# Encode categorical features as a one-hot numeric array\n",
    "OH_encoder = OneHotEncoder(handle_unknown='ignore', sparse=False)\n",
    "OH_enc_train = pd.DataFrame(OH_encoder.fit_transform(train_data[all_categorical_columns]))\n",
    "OH_enc_test = pd.DataFrame(OH_encoder.transform(test_data[all_categorical_columns]))"
   ]
  },
  {
   "cell_type": "code",
   "execution_count": 23,
   "id": "academic-parcel",
   "metadata": {},
   "outputs": [],
   "source": [
    "num_data_train = train_data.drop(all_categorical_columns, axis=1)\n",
    "num_data_test = test_data.drop(all_categorical_columns, axis=1)"
   ]
  },
  {
   "cell_type": "code",
   "execution_count": 24,
   "id": "christian-continuity",
   "metadata": {},
   "outputs": [],
   "source": [
    "# Add one-hot encoded columns to numerical features\n",
    "OH_train = pd.DataFrame(np.hstack([num_data_train, OH_enc_train]))\n",
    "OH_test = pd.DataFrame(np.hstack([num_data_test, OH_enc_test]))"
   ]
  },
  {
   "cell_type": "code",
   "execution_count": 25,
   "id": "faced-sterling",
   "metadata": {},
   "outputs": [],
   "source": [
    "train_data_split, test_data_split, train_labels_split, test_labels_split = train_test_split(OH_train, y,  \n",
    "                                                                                     test_size = 0.3)"
   ]
  },
  {
   "cell_type": "markdown",
   "id": "falling-promotion",
   "metadata": {},
   "source": [
    "## 4. Make prediction\n",
    "Try different models to find the best. "
   ]
  },
  {
   "cell_type": "code",
   "execution_count": 26,
   "id": "smaller-maine",
   "metadata": {
    "scrolled": true
   },
   "outputs": [],
   "source": [
    "linear_regressor = linear_model.LinearRegression()\n",
    "linear_regressor.fit(train_data_split, train_labels_split)\n",
    "linear_predictions = linear_regressor.predict(test_data_split)"
   ]
  },
  {
   "cell_type": "code",
   "execution_count": 27,
   "id": "healthy-monster",
   "metadata": {},
   "outputs": [
    {
     "data": {
      "text/plain": [
       "0.5903142253633753"
      ]
     },
     "execution_count": 27,
     "metadata": {},
     "output_type": "execute_result"
    }
   ],
   "source": [
    "roc_auc_score(test_labels_split, linear_predictions)"
   ]
  },
  {
   "cell_type": "code",
   "execution_count": 28,
   "id": "generous-society",
   "metadata": {},
   "outputs": [],
   "source": [
    "log_regressor = linear_model.LogisticRegression(solver='lbfgs', max_iter=1000)\n",
    "log_regressor.fit(train_data_split, train_labels_split)\n",
    "lr_predictions = log_regressor.predict_proba(test_data_split)[:, 1]"
   ]
  },
  {
   "cell_type": "code",
   "execution_count": 29,
   "id": "modern-vitamin",
   "metadata": {},
   "outputs": [
    {
     "data": {
      "text/plain": [
       "0.5804749094333153"
      ]
     },
     "execution_count": 29,
     "metadata": {},
     "output_type": "execute_result"
    }
   ],
   "source": [
    "roc_auc_score(test_labels_split, lr_predictions)"
   ]
  },
  {
   "cell_type": "code",
   "execution_count": 30,
   "id": "waiting-calgary",
   "metadata": {},
   "outputs": [],
   "source": [
    "des_tree = tree.DecisionTreeClassifier(random_state=1)\n",
    "des_tree.fit(train_data_split, train_labels_split)\n",
    "des_tree_predictions = des_tree.predict(test_data_split)"
   ]
  },
  {
   "cell_type": "code",
   "execution_count": 31,
   "id": "checked-master",
   "metadata": {},
   "outputs": [
    {
     "data": {
      "text/plain": [
       "0.5578572584456929"
      ]
     },
     "execution_count": 31,
     "metadata": {},
     "output_type": "execute_result"
    }
   ],
   "source": [
    "roc_auc_score(test_labels_split, des_tree_predictions)"
   ]
  },
  {
   "cell_type": "code",
   "execution_count": 32,
   "id": "valid-convertible",
   "metadata": {},
   "outputs": [],
   "source": [
    "gbx_model = GradientBoostingRegressor(n_estimators = 3, max_depth=3, learning_rate=0.9)\n",
    "gbx_model.fit(train_data_split, train_labels_split)\n",
    "gbx_model_predictions = gbx_model.predict(test_data_split)"
   ]
  },
  {
   "cell_type": "code",
   "execution_count": 33,
   "id": "dependent-special",
   "metadata": {},
   "outputs": [
    {
     "data": {
      "text/plain": [
       "0.6323012389292695"
      ]
     },
     "execution_count": 33,
     "metadata": {},
     "output_type": "execute_result"
    }
   ],
   "source": [
    "roc_auc_score(test_labels_split, gbx_model_predictions)"
   ]
  },
  {
   "cell_type": "markdown",
   "id": "incorporated-season",
   "metadata": {},
   "source": [
    "## 5. Try to improve our prediction\n",
    "We can see that GradientBoostingRegressor has the best score. But still not good. We can try to improve it if we work more clearly with our data. I deleted a lot of columns now I'll try to leave columns 'developer' and 'okved_list' and work with it better."
   ]
  },
  {
   "cell_type": "code",
   "execution_count": 34,
   "id": "transsexual-computer",
   "metadata": {},
   "outputs": [],
   "source": [
    "new_data_clean = new_all_data.drop(['act_title', 'responsible', 'act_significance', \n",
    "                          'relations_regulated_by_act', 'persons_affected_by_act', \n",
    "                          'act_objectives', 'problem_addressed', 'publication_date', 'added_by'], axis=1)"
   ]
  },
  {
   "cell_type": "code",
   "execution_count": 35,
   "id": "supposed-channel",
   "metadata": {},
   "outputs": [],
   "source": [
    "new_data_clean[['developer']] = new_data_clean['developer'].fillna('Неизвестно')"
   ]
  },
  {
   "cell_type": "code",
   "execution_count": null,
   "id": "plain-aquarium",
   "metadata": {},
   "outputs": [],
   "source": [
    "new_data_clean[['okved_list']] = new_data_clean['okved_list'].fillna('Неизвестно')"
   ]
  },
  {
   "cell_type": "code",
   "execution_count": 36,
   "id": "attended-holmes",
   "metadata": {},
   "outputs": [
    {
     "name": "stdout",
     "output_type": "stream",
     "text": [
      "<class 'pandas.core.frame.DataFrame'>\n",
      "Int64Index: 84417 entries, 0 to 85005\n",
      "Data columns (total 11 columns):\n",
      " #   Column                              Non-Null Count  Dtype  \n",
      "---  ------                              --------------  -----  \n",
      " 0   id                                  84417 non-null  int64  \n",
      " 1   developer                           84417 non-null  object \n",
      " 2   okved_list                          73097 non-null  object \n",
      " 3   views_num                           84417 non-null  float64\n",
      " 4   comments_num                        84417 non-null  float64\n",
      " 5   likes_num                           84417 non-null  float64\n",
      " 6   dislikes_num                        84417 non-null  float64\n",
      " 7   regulatory_impact                   84417 non-null  object \n",
      " 8   is_regionally_signigicant           84417 non-null  object \n",
      " 9   act_changes_controlling_activities  84417 non-null  object \n",
      " 10  mineco_solution                     84417 non-null  object \n",
      "dtypes: float64(4), int64(1), object(6)\n",
      "memory usage: 7.7+ MB\n"
     ]
    }
   ],
   "source": [
    "#look at our data again \n",
    "new_data_clean.info()"
   ]
  },
  {
   "cell_type": "code",
   "execution_count": 37,
   "id": "typical-earth",
   "metadata": {},
   "outputs": [],
   "source": [
    "new_train_data = new_data_clean[new_data_clean['id'].isin(id_list)]\n",
    "new_test_data = new_data_clean[new_data_clean['id'].isin(test_id)]\n",
    "new_train_answer = train_answer[train_answer['id'].isin(id_list)]"
   ]
  },
  {
   "cell_type": "code",
   "execution_count": 38,
   "id": "stupid-arctic",
   "metadata": {},
   "outputs": [],
   "source": [
    "new_y = new_train_answer['passed']\n",
    "new_X = new_train_data"
   ]
  },
  {
   "cell_type": "code",
   "execution_count": 47,
   "id": "sound-heaven",
   "metadata": {},
   "outputs": [
    {
     "data": {
      "text/plain": [
       "['developer',\n",
       " 'okved_list',\n",
       " 'regulatory_impact',\n",
       " 'is_regionally_signigicant',\n",
       " 'act_changes_controlling_activities',\n",
       " 'mineco_solution']"
      ]
     },
     "execution_count": 47,
     "metadata": {},
     "output_type": "execute_result"
    }
   ],
   "source": [
    "new_all_categorical_columns = [x for x in new_data_clean.columns if new_data_clean[x].dtype == 'object']\n",
    "new_all_categorical_columns"
   ]
  },
  {
   "cell_type": "code",
   "execution_count": 48,
   "id": "hindu-scout",
   "metadata": {},
   "outputs": [],
   "source": [
    "# Encode categorical features as a one-hot numeric array\n",
    "new_OH_encoder = OneHotEncoder(handle_unknown='ignore', sparse=False)\n",
    "new_OH_enc_train = pd.DataFrame(new_OH_encoder.fit_transform(new_train_data[new_all_categorical_columns]))\n",
    "new_OH_enc_test = pd.DataFrame(new_OH_encoder.transform(new_test_data[new_all_categorical_columns]))"
   ]
  },
  {
   "cell_type": "code",
   "execution_count": 49,
   "id": "permanent-jumping",
   "metadata": {},
   "outputs": [],
   "source": [
    "new_num_data_train = new_train_data.drop(new_all_categorical_columns, axis=1)\n",
    "new_num_data_test = new_test_data.drop(new_all_categorical_columns, axis=1)\n"
   ]
  },
  {
   "cell_type": "code",
   "execution_count": 50,
   "id": "regulated-output",
   "metadata": {},
   "outputs": [],
   "source": [
    "# Add one-hot encoded columns to numerical features\n",
    "new_OH_train = pd.DataFrame(np.hstack([new_num_data_train, new_OH_enc_train]))\n",
    "new_OH_test = pd.DataFrame(np.hstack([new_num_data_test, new_OH_enc_test]))"
   ]
  },
  {
   "cell_type": "code",
   "execution_count": 51,
   "id": "answering-prefix",
   "metadata": {},
   "outputs": [],
   "source": [
    "new_train_data_split, new_test_data_split, new_train_labels_split, new_test_labels_split = train_test_split(\n",
    "    new_OH_train, new_y, test_size = 0.3)"
   ]
  },
  {
   "cell_type": "markdown",
   "id": "fresh-plant",
   "metadata": {},
   "source": [
    "## 6. Make new prediction\n",
    "Try different models to find the best."
   ]
  },
  {
   "cell_type": "code",
   "execution_count": 53,
   "id": "transsexual-fitness",
   "metadata": {},
   "outputs": [],
   "source": [
    "new_linear_regressor = linear_model.LinearRegression()\n",
    "new_linear_regressor.fit(new_train_data_split, new_train_labels_split)\n",
    "new_linear_predictions = new_linear_regressor.predict(new_test_data_split)\n"
   ]
  },
  {
   "cell_type": "code",
   "execution_count": 54,
   "id": "general-venue",
   "metadata": {},
   "outputs": [
    {
     "data": {
      "text/plain": [
       "0.7950517444868533"
      ]
     },
     "execution_count": 54,
     "metadata": {},
     "output_type": "execute_result"
    }
   ],
   "source": [
    "roc_auc_score(new_test_labels_split, new_linear_predictions)"
   ]
  },
  {
   "cell_type": "code",
   "execution_count": 55,
   "id": "brief-demand",
   "metadata": {},
   "outputs": [],
   "source": [
    "new_log_regressor = linear_model.LogisticRegression(solver='lbfgs', max_iter=1000)\n",
    "new_log_regressor.fit(new_train_data_split, new_train_labels_split)\n",
    "new_log_predictions = new_log_regressor.predict_proba(new_test_data_split)[:, 1]"
   ]
  },
  {
   "cell_type": "code",
   "execution_count": 56,
   "id": "rolled-filename",
   "metadata": {},
   "outputs": [
    {
     "data": {
      "text/plain": [
       "0.5857173436727234"
      ]
     },
     "execution_count": 56,
     "metadata": {},
     "output_type": "execute_result"
    }
   ],
   "source": [
    "roc_auc_score(new_test_labels_split, new_log_predictions)"
   ]
  },
  {
   "cell_type": "code",
   "execution_count": 57,
   "id": "downtown-roman",
   "metadata": {},
   "outputs": [],
   "source": [
    "new_des_tree = tree.DecisionTreeClassifier(random_state=1)\n",
    "new_des_tree.fit(new_train_data_split, new_train_labels_split)\n",
    "new_des_tree_predictions = new_des_tree.predict(new_test_data_split)"
   ]
  },
  {
   "cell_type": "code",
   "execution_count": 58,
   "id": "champion-warrant",
   "metadata": {},
   "outputs": [
    {
     "data": {
      "text/plain": [
       "0.6897043530741223"
      ]
     },
     "execution_count": 58,
     "metadata": {},
     "output_type": "execute_result"
    }
   ],
   "source": [
    "roc_auc_score(new_test_labels_split, new_des_tree_predictions)"
   ]
  },
  {
   "cell_type": "code",
   "execution_count": 59,
   "id": "registered-scotland",
   "metadata": {},
   "outputs": [],
   "source": [
    "new_gbx_model = GradientBoostingRegressor(n_estimators = 3, max_depth=3, learning_rate=0.9)\n",
    "new_gbx_model.fit(new_train_data_split, new_train_labels_split)\n",
    "new_gbx_model_predictions = new_gbx_model.predict(new_test_data_split)"
   ]
  },
  {
   "cell_type": "code",
   "execution_count": 60,
   "id": "compliant-loading",
   "metadata": {},
   "outputs": [
    {
     "data": {
      "text/plain": [
       "0.691121971470083"
      ]
     },
     "execution_count": 60,
     "metadata": {},
     "output_type": "execute_result"
    }
   ],
   "source": [
    "roc_auc_score(new_test_labels_split, new_gbx_model_predictions)"
   ]
  },
  {
   "cell_type": "markdown",
   "id": "sunset-passport",
   "metadata": {},
   "source": [
    "Now our best model is LinearRegression with score 0.79. What is better."
   ]
  },
  {
   "cell_type": "code",
   "execution_count": 65,
   "id": "therapeutic-request",
   "metadata": {},
   "outputs": [],
   "source": [
    "# use LinearRegression to solve our problem - determine whether a regulatory legal act will be adopted or not\n",
    "linreg = linear_model.LinearRegression()\n",
    "linreg.fit(new_OH_train, new_y)\n",
    "linreg_predictions = linreg.predict(new_OH_test)"
   ]
  },
  {
   "cell_type": "code",
   "execution_count": 66,
   "id": "elect-partner",
   "metadata": {},
   "outputs": [],
   "source": [
    "output = pd.DataFrame({'id': test_data.id, 'Passed': linreg_predictions})\n",
    "output.to_csv('submission.csv', index=False)"
   ]
  }
 ],
 "metadata": {
  "kernelspec": {
   "display_name": "Python 3",
   "language": "python",
   "name": "python3"
  },
  "language_info": {
   "codemirror_mode": {
    "name": "ipython",
    "version": 3
   },
   "file_extension": ".py",
   "mimetype": "text/x-python",
   "name": "python",
   "nbconvert_exporter": "python",
   "pygments_lexer": "ipython3",
   "version": "3.6.9"
  }
 },
 "nbformat": 4,
 "nbformat_minor": 5
}
